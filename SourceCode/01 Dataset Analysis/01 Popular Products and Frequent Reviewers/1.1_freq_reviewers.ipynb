{
 "cells": [
  {
   "cell_type": "code",
   "execution_count": 1,
   "metadata": {},
   "outputs": [],
   "source": [
    "import pandas as pd\n",
    "import numpy as np\n",
    "import matplotlib.pyplot as plt\n",
    "import seaborn as sns\n",
    "from matplotlib.cbook import boxplot_stats\n",
    "from scipy import stats\n",
    "from collections import Iterable"
   ]
  },
  {
   "cell_type": "code",
   "execution_count": 2,
   "metadata": {},
   "outputs": [],
   "source": [
    "data = pd.read_json('CellPhoneReview.json', lines=True)"
   ]
  },
  {
   "cell_type": "markdown",
   "metadata": {},
   "source": [
    "## Initial Analysis"
   ]
  },
  {
   "cell_type": "code",
   "execution_count": 3,
   "metadata": {},
   "outputs": [
    {
     "data": {
      "text/html": [
       "<div>\n",
       "<style scoped>\n",
       "    .dataframe tbody tr th:only-of-type {\n",
       "        vertical-align: middle;\n",
       "    }\n",
       "\n",
       "    .dataframe tbody tr th {\n",
       "        vertical-align: top;\n",
       "    }\n",
       "\n",
       "    .dataframe thead th {\n",
       "        text-align: right;\n",
       "    }\n",
       "</style>\n",
       "<table border=\"1\" class=\"dataframe\">\n",
       "  <thead>\n",
       "    <tr style=\"text-align: right;\">\n",
       "      <th></th>\n",
       "      <th>asin</th>\n",
       "      <th>overall</th>\n",
       "      <th>reviewText</th>\n",
       "      <th>reviewTime</th>\n",
       "      <th>reviewerID</th>\n",
       "      <th>summary</th>\n",
       "      <th>unixReviewTime</th>\n",
       "    </tr>\n",
       "  </thead>\n",
       "  <tbody>\n",
       "    <tr>\n",
       "      <th>0</th>\n",
       "      <td>120401325X</td>\n",
       "      <td>5</td>\n",
       "      <td>These stickers work like the review says they ...</td>\n",
       "      <td>01 14, 2014</td>\n",
       "      <td>ASY55RVNIL0UD</td>\n",
       "      <td>Really great product.</td>\n",
       "      <td>1389657600</td>\n",
       "    </tr>\n",
       "    <tr>\n",
       "      <th>1</th>\n",
       "      <td>120401325X</td>\n",
       "      <td>5</td>\n",
       "      <td>These are awesome and make my phone look so st...</td>\n",
       "      <td>06 26, 2014</td>\n",
       "      <td>A2TMXE2AFO7ONB</td>\n",
       "      <td>LOVE LOVE LOVE</td>\n",
       "      <td>1403740800</td>\n",
       "    </tr>\n",
       "    <tr>\n",
       "      <th>2</th>\n",
       "      <td>120401325X</td>\n",
       "      <td>4</td>\n",
       "      <td>Item arrived in great time and was in perfect ...</td>\n",
       "      <td>10 21, 2013</td>\n",
       "      <td>AWJ0WZQYMYFQ4</td>\n",
       "      <td>Cute!</td>\n",
       "      <td>1382313600</td>\n",
       "    </tr>\n",
       "    <tr>\n",
       "      <th>3</th>\n",
       "      <td>120401325X</td>\n",
       "      <td>5</td>\n",
       "      <td>awesome! stays on, and looks great. can be use...</td>\n",
       "      <td>02 3, 2013</td>\n",
       "      <td>ATX7CZYFXI1KW</td>\n",
       "      <td>leopard home button sticker for iphone 4s</td>\n",
       "      <td>1359849600</td>\n",
       "    </tr>\n",
       "    <tr>\n",
       "      <th>4</th>\n",
       "      <td>120401325X</td>\n",
       "      <td>3</td>\n",
       "      <td>These make using the home button easy. My daug...</td>\n",
       "      <td>10 12, 2013</td>\n",
       "      <td>APX47D16JOP7H</td>\n",
       "      <td>Cute</td>\n",
       "      <td>1381536000</td>\n",
       "    </tr>\n",
       "  </tbody>\n",
       "</table>\n",
       "</div>"
      ],
      "text/plain": [
       "         asin  overall                                         reviewText  \\\n",
       "0  120401325X        5  These stickers work like the review says they ...   \n",
       "1  120401325X        5  These are awesome and make my phone look so st...   \n",
       "2  120401325X        4  Item arrived in great time and was in perfect ...   \n",
       "3  120401325X        5  awesome! stays on, and looks great. can be use...   \n",
       "4  120401325X        3  These make using the home button easy. My daug...   \n",
       "\n",
       "    reviewTime      reviewerID                                    summary  \\\n",
       "0  01 14, 2014   ASY55RVNIL0UD                      Really great product.   \n",
       "1  06 26, 2014  A2TMXE2AFO7ONB                             LOVE LOVE LOVE   \n",
       "2  10 21, 2013   AWJ0WZQYMYFQ4                                      Cute!   \n",
       "3   02 3, 2013   ATX7CZYFXI1KW  leopard home button sticker for iphone 4s   \n",
       "4  10 12, 2013   APX47D16JOP7H                                       Cute   \n",
       "\n",
       "   unixReviewTime  \n",
       "0      1389657600  \n",
       "1      1403740800  \n",
       "2      1382313600  \n",
       "3      1359849600  \n",
       "4      1381536000  "
      ]
     },
     "execution_count": 3,
     "metadata": {},
     "output_type": "execute_result"
    }
   ],
   "source": [
    "data.head()"
   ]
  },
  {
   "cell_type": "code",
   "execution_count": 4,
   "metadata": {},
   "outputs": [
    {
     "name": "stdout",
     "output_type": "stream",
     "text": [
      "Total No. of records: 190919\n",
      "No. of unique products: 10420\n",
      "No. of unique reviewers: 27874\n"
     ]
    }
   ],
   "source": [
    "print(f\"Total No. of records: {data.shape[0]}\")\n",
    "print(f\"No. of unique products: {data['asin'].nunique()}\")\n",
    "print(f\"No. of unique reviewers: {data['reviewerID'].nunique()}\")"
   ]
  },
  {
   "cell_type": "markdown",
   "metadata": {},
   "source": [
    "## Distribution from the Products' Perspective"
   ]
  },
  {
   "cell_type": "code",
   "execution_count": 5,
   "metadata": {},
   "outputs": [],
   "source": [
    "# from the product perspective, each product receives how many reviews?\n",
    "productID_arr = data['asin'].values\n",
    "count_products = dict()\n",
    "\n",
    "for ID in productID_arr:\n",
    "    try:\n",
    "        count_products[ID] += 1\n",
    "    except:\n",
    "        count_products[ID] = 1"
   ]
  },
  {
   "cell_type": "code",
   "execution_count": 33,
   "metadata": {},
   "outputs": [
    {
     "data": {
      "image/png": "[encoded data removed]",
      "text/plain": [
       "<Figure size 576x216 with 1 Axes>"
      ]
     },
     "metadata": {},
     "output_type": "display_data"
    }
   ],
   "source": [
    "# majority of products has few reviews\n",
    "fig, ax = plt.subplots(figsize = (8,3))\n",
    "bin_v = plt.hist(list(count_products.values()), bins=79)\n",
    "plt.xlabel('Number of Reviews Received by Products', fontsize = 10)\n",
    "plt.ylabel('Frequency - log scale', fontsize = 10)\n",
    "plt.yscale('log', nonposy='clip')\n",
    "# plt.xscale('log')\n",
    "plt.show()"
   ]
  },
  {
   "cell_type": "code",
   "execution_count": 36,
   "metadata": {},
   "outputs": [
    {
     "data": {
      "image/png": "[encoded data removed]",
      "text/plain": [
       "<Figure size 1200x240 with 1 Axes>"
      ]
     },
     "metadata": {},
     "output_type": "display_data"
    }
   ],
   "source": [
    "plt.figure(figsize=(15,3), dpi= 80)\n",
    "sns.boxplot(x=list(count_products.values()), color = 'yellow')\n",
    "plt.xlabel('Number of Reviews Received By Products', fontsize = 10)\n",
    "plt.title('BoxPlot of Reviews from Products\\' Perspective', fontsize = 10)\n",
    "plt.show()"
   ]
  },
  {
   "cell_type": "code",
   "execution_count": 59,
   "metadata": {},
   "outputs": [
    {
     "data": {
      "text/plain": [
       "90.39347408829174"
      ]
     },
     "execution_count": 59,
     "metadata": {},
     "output_type": "execute_result"
    }
   ],
   "source": [
    "#find the percentile of outilers\n",
    "outliers = [y for stat in boxplot_stats(list(count_products.values())) for y in stat['fliers']]\n",
    "sorted(outliers)\n",
    "stats.percentileofscore(list(count_products.values()), 38)"
   ]
  },
  {
   "cell_type": "code",
   "execution_count": 24,
   "metadata": {},
   "outputs": [
    {
     "name": "stdout",
     "output_type": "stream",
     "text": [
      "6.0 18.0\n"
     ]
    }
   ],
   "source": [
    "# find the midspread of the distribution\n",
    "q1_product = stats.scoreatpercentile(list(count_products.values()), 25)\n",
    "q3_product = stats.scoreatpercentile(list(count_products.values()), 75)\n",
    "\n",
    "print(q1_product, q3_product)"
   ]
  },
  {
   "cell_type": "markdown",
   "metadata": {},
   "source": [
    "## Distribution from the Users' Perspective"
   ]
  },
  {
   "cell_type": "code",
   "execution_count": 61,
   "metadata": {},
   "outputs": [],
   "source": [
    "# from the users' perspective, each reviewers gave how many reviews?\n",
    "reviewerID_arr = data['reviewerID'].values\n",
    "count_reviewers = dict()\n",
    "\n",
    "for ID in reviewerID_arr:\n",
    "    try:\n",
    "        count_reviewers[ID] += 1\n",
    "    except:\n",
    "        count_reviewers[ID] = 1"
   ]
  },
  {
   "cell_type": "code",
   "execution_count": 62,
   "metadata": {},
   "outputs": [
    {
     "data": {
      "image/png": "[encoded data removed]",
      "text/plain": [
       "<Figure size 576x216 with 1 Axes>"
      ]
     },
     "metadata": {},
     "output_type": "display_data"
    }
   ],
   "source": [
    "# majority of reviewers post few reviews\n",
    "fig, ax = plt.subplots(figsize = (8,3))\n",
    "hist, bin_v, _ = plt.hist(list(count_reviewers.values()), bins=79)\n",
    "plt.xlabel('Number of Reviews Given by Reviewers', fontsize = 10)\n",
    "plt.ylabel('Frequency - log scale', fontsize = 10)\n",
    "plt.yscale('log', nonposy='clip')\n",
    "# plt.xscale('log')\n",
    "plt.show()"
   ]
  },
  {
   "cell_type": "code",
   "execution_count": 63,
   "metadata": {},
   "outputs": [
    {
     "data": {
      "image/png": "[encoded data removed]",
      "text/plain": [
       "<Figure size 1200x240 with 1 Axes>"
      ]
     },
     "metadata": {},
     "output_type": "display_data"
    }
   ],
   "source": [
    "plt.figure(figsize=(15,3), dpi= 80)\n",
    "sns.boxplot(x=list(count_reviewers.values()), color = 'yellow')\n",
    "plt.xlabel('Number of Reviews Given By Reviewers', fontsize = 10)\n",
    "plt.title('BoxPlot of Reviews From Users\\' Perspective', fontsize = 10)\n",
    "plt.show()"
   ]
  },
  {
   "cell_type": "code",
   "execution_count": 65,
   "metadata": {},
   "outputs": [
    {
     "data": {
      "text/plain": [
       "92.78718519050011"
      ]
     },
     "execution_count": 65,
     "metadata": {},
     "output_type": "execute_result"
    }
   ],
   "source": [
    "#find the percentile of outilers\n",
    "outliers = [y for stat in boxplot_stats(list(count_reviewers.values())) for y in stat['fliers']]\n",
    "sorted(outliers)\n",
    "stats.percentileofscore(list(count_reviewers.values()), 11)"
   ]
  },
  {
   "cell_type": "code",
   "execution_count": 66,
   "metadata": {},
   "outputs": [],
   "source": [
    "#split to five group according to the percentile\n",
    "grp1_score = stats.scoreatpercentile(list(count_reviewers.values()), 0)\n",
    "grp2_score = stats.scoreatpercentile(list(count_reviewers.values()), 25)\n",
    "grp3_score = stats.scoreatpercentile(list(count_reviewers.values()), 50)\n",
    "grp4_score = stats.scoreatpercentile(list(count_reviewers.values()), 75)\n",
    "grp5_score = stats.scoreatpercentile(list(count_reviewers.values()), 92)"
   ]
  },
  {
   "cell_type": "code",
   "execution_count": 67,
   "metadata": {},
   "outputs": [
    {
     "name": "stdout",
     "output_type": "stream",
     "text": [
      "1.0\n",
      "5.0\n",
      "6.0\n",
      "7.0\n",
      "11.0\n"
     ]
    }
   ],
   "source": [
    "# What is the least number of reviews given by users in each group?\n",
    "print(grp1_score)\n",
    "print(grp2_score)\n",
    "print(grp3_score)\n",
    "print(grp4_score)\n",
    "print(grp5_score)"
   ]
  },
  {
   "cell_type": "code",
   "execution_count": 71,
   "metadata": {},
   "outputs": [],
   "source": [
    "def grpID(score1, score2, count_reviewers_dict):\n",
    "    '''gather all reviewers IDs from each group'''\n",
    "    \n",
    "    ID_list = []\n",
    "    for ID in count_reviewers_dict:\n",
    "        if score1 <= count_reviewers_dict[ID] < score2:\n",
    "            ID_list.append(ID)\n",
    "            \n",
    "    return ID_list"
   ]
  },
  {
   "cell_type": "code",
   "execution_count": 72,
   "metadata": {},
   "outputs": [],
   "source": [
    "grp1_ID = grpID(grp1_score, grp2_score, count_reviewers)\n",
    "grp2_ID = grpID(grp2_score, grp3_score, count_reviewers)\n",
    "grp3_ID = grpID(grp3_score, grp4_score, count_reviewers)\n",
    "grp4_ID = grpID(grp4_score, grp5_score, count_reviewers)\n",
    "grp5_ID = grpID(grp5_score, max(count_reviewers.values()) + 1, count_reviewers)"
   ]
  },
  {
   "cell_type": "code",
   "execution_count": 73,
   "metadata": {},
   "outputs": [
    {
     "name": "stdout",
     "output_type": "stream",
     "text": [
      "1168\n",
      "11497\n",
      "5675\n",
      "7242\n",
      "2292\n"
     ]
    }
   ],
   "source": [
    "# number of reviewers in each group\n",
    "print(len(grp1_ID))\n",
    "print(len(grp2_ID))\n",
    "print(len(grp3_ID))\n",
    "print(len(grp4_ID))\n",
    "print(len(grp5_ID))"
   ]
  },
  {
   "cell_type": "markdown",
   "metadata": {},
   "source": [
    "## Do active reviewers like to give low ratings?"
   ]
  },
  {
   "cell_type": "code",
   "execution_count": 75,
   "metadata": {},
   "outputs": [],
   "source": [
    "def grpRating(grpID, reviewerID_arr, rating_arr):\n",
    "    '''gather all reviewers' ratings from each group'''\n",
    "    \n",
    "    grp_ID_rating_dict = dict()\n",
    "\n",
    "    for ID in grpID:\n",
    "        grp_ID_rating_dict[ID] = []\n",
    "\n",
    "    for idx in range(len(reviewerID_arr)):\n",
    "        try:\n",
    "            grp_ID_rating_dict[reviewerID_arr[idx]].append(rating_arr[idx])\n",
    "        except:\n",
    "            continue\n",
    "\n",
    "    master_list = []\n",
    "    nested_list = list(grp_ID_rating_dict.values())\n",
    "    for ls in nested_list:\n",
    "        master_list += ls\n",
    "            \n",
    "    return master_list"
   ]
  },
  {
   "cell_type": "code",
   "execution_count": 76,
   "metadata": {},
   "outputs": [],
   "source": [
    "rating_arr = data['overall'].values\n",
    "grp1_ratings = grpRating(grp1_ID, reviewerID_arr, rating_arr)\n",
    "grp2_ratings = grpRating(grp2_ID, reviewerID_arr, rating_arr)\n",
    "grp3_ratings = grpRating(grp3_ID, reviewerID_arr, rating_arr)\n",
    "grp4_ratings = grpRating(grp4_ID, reviewerID_arr, rating_arr)\n",
    "grp5_ratings = grpRating(grp5_ID, reviewerID_arr, rating_arr)"
   ]
  },
  {
   "cell_type": "code",
   "execution_count": 77,
   "metadata": {},
   "outputs": [],
   "source": [
    "def ratingFraction(grpRating):\n",
    "    '''compute reviewers' ratings proportion from each group'''\n",
    "    \n",
    "    fraction_list = []\n",
    "    num_ratings = len(grpRating)\n",
    "    \n",
    "    for rating in range(1,6):\n",
    "        frac = (np.sum(np.array(grpRating)==rating))/num_ratings\n",
    "        fraction_list.append(frac)\n",
    "\n",
    "    return fraction_list"
   ]
  },
  {
   "cell_type": "code",
   "execution_count": 78,
   "metadata": {},
   "outputs": [],
   "source": [
    "grp1_frac = ratingFraction(grp1_ratings)\n",
    "grp2_frac = ratingFraction(grp2_ratings)\n",
    "grp3_frac = ratingFraction(grp3_ratings)\n",
    "grp4_frac = ratingFraction(grp4_ratings)\n",
    "grp5_frac = ratingFraction(grp5_ratings)"
   ]
  },
  {
   "cell_type": "code",
   "execution_count": 79,
   "metadata": {},
   "outputs": [
    {
     "name": "stdout",
     "output_type": "stream",
     "text": [
      "[0.07732749178532311, 0.05607886089813801, 0.10164293537787514, 0.19978094194961665, 0.5651697699890471]\n",
      "[0.07836826998347395, 0.06293815778029051, 0.11159432895537967, 0.20177437592415412, 0.5453248673567017]\n",
      "[0.07353891336270191, 0.05720998531571219, 0.11004405286343612, 0.19732745961820852, 0.5618795888399413]\n",
      "[0.06721474230574957, 0.05692090641492345, 0.11500879591730095, 0.20706111856199816, 0.5537944368000278]\n",
      "[0.04964444206811741, 0.048093888680960276, 0.10281772977597177, 0.21884189702186815, 0.5806020424530824]\n"
     ]
    }
   ],
   "source": [
    "print(grp1_frac)\n",
    "print(grp2_frac)\n",
    "print(grp3_frac)\n",
    "print(grp4_frac)\n",
    "print(grp5_frac)"
   ]
  },
  {
   "cell_type": "code",
   "execution_count": 87,
   "metadata": {},
   "outputs": [
    {
     "data": {
      "image/png": "[encoded data removed]",
      "text/plain": [
       "<Figure size 480x400 with 1 Axes>"
      ]
     },
     "metadata": {},
     "output_type": "display_data"
    }
   ],
   "source": [
    "rating_frac_frame = pd.DataFrame({'Group': ['Not active', 'Not very active', 'Average', 'Active', 'Most active']*5,\n",
    "                                  'Rating':['1']*5 + ['2']*5 + ['3']*5 + ['4']*5 + ['5']*5,\n",
    "                                   'Proportion': np.array([grp1_frac, grp2_frac, grp3_frac, grp4_frac, grp5_frac]).T.ravel()})\n",
    "\n",
    "plt.figure(figsize=(6,5), dpi= 80)\n",
    "sns.barplot(x=\"Rating\", y=\"Proportion\", hue=\"Group\", data=rating_frac_frame)\n",
    "plt.show()"
   ]
  },
  {
   "cell_type": "code",
   "execution_count": 88,
   "metadata": {},
   "outputs": [
    {
     "name": "stderr",
     "output_type": "stream",
     "text": [
      "/home/tmx/anaconda3/envs/py36/lib/python3.6/site-packages/matplotlib/axes/_axes.py:6462: UserWarning: The 'normed' kwarg is deprecated, and has been replaced by the 'density' kwarg.\n",
      "  warnings.warn(\"The 'normed' kwarg is deprecated, and has been \"\n",
      "/home/tmx/anaconda3/envs/py36/lib/python3.6/site-packages/matplotlib/axes/_axes.py:6462: UserWarning: The 'normed' kwarg is deprecated, and has been replaced by the 'density' kwarg.\n",
      "  warnings.warn(\"The 'normed' kwarg is deprecated, and has been \"\n",
      "/home/tmx/anaconda3/envs/py36/lib/python3.6/site-packages/matplotlib/axes/_axes.py:6462: UserWarning: The 'normed' kwarg is deprecated, and has been replaced by the 'density' kwarg.\n",
      "  warnings.warn(\"The 'normed' kwarg is deprecated, and has been \"\n",
      "/home/tmx/anaconda3/envs/py36/lib/python3.6/site-packages/matplotlib/axes/_axes.py:6462: UserWarning: The 'normed' kwarg is deprecated, and has been replaced by the 'density' kwarg.\n",
      "  warnings.warn(\"The 'normed' kwarg is deprecated, and has been \"\n",
      "/home/tmx/anaconda3/envs/py36/lib/python3.6/site-packages/matplotlib/axes/_axes.py:6462: UserWarning: The 'normed' kwarg is deprecated, and has been replaced by the 'density' kwarg.\n",
      "  warnings.warn(\"The 'normed' kwarg is deprecated, and has been \"\n"
     ]
    },
    {
     "data": {
      "image/png": "[encoded data removed]",
      "text/plain": [
       "<Figure size 480x400 with 1 Axes>"
      ]
     },
     "metadata": {},
     "output_type": "display_data"
    }
   ],
   "source": [
    "kwargs = dict( hist_kws={'cumulative': True}, kde_kws={'cumulative': True, 'linewidth':0})\n",
    "\n",
    "plt.figure(figsize=(6,5), dpi= 80)\n",
    "sns.set(style=\"whitegrid\")\n",
    "sns.distplot(grp1_ratings, color=\"dodgerblue\", label=\"Not active\", **kwargs)\n",
    "sns.distplot(grp2_ratings, color=\"orange\", label=\"Not very active\", **kwargs)\n",
    "sns.distplot(grp3_ratings, color=\"pink\", label=\"Average\", **kwargs)\n",
    "sns.distplot(grp4_ratings, color=\"lightgreen\", label=\"Active\", **kwargs)\n",
    "sns.distplot(grp5_ratings, color=\"brown\", label=\"Most active\", **kwargs)\n",
    "\n",
    "\n",
    "plt.xlabel('Rating', fontsize = 10)\n",
    "plt.ylabel('Probability', fontsize = 10)\n",
    "plt.title('Cumulative distributions of ratings in each group', fontsize = 10)\n",
    "plt.legend()\n",
    "plt.show()"
   ]
  }
 ],
 "metadata": {
  "kernelspec": {
   "display_name": "py36",
   "language": "python",
   "name": "py36"
  },
  "language_info": {
   "codemirror_mode": {
    "name": "ipython",
    "version": 3
   },
   "file_extension": ".py",
   "mimetype": "text/x-python",
   "name": "python",
   "nbconvert_exporter": "python",
   "pygments_lexer": "ipython3",
   "version": "3.6.6"
  }
 },
 "nbformat": 4,
 "nbformat_minor": 2
}

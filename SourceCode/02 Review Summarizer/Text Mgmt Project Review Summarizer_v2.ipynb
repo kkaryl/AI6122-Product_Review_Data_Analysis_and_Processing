{
 "cells": [
  {
   "cell_type": "markdown",
   "metadata": {
    "colab_type": "text",
    "id": "OnKgOm_CVeBd"
   },
   "source": [
    "# AI6122 Text Management Review Summarizer\n",
    "Task List:\n",
    "- [ ] Define and justify what a summarizer is. E.g.\n",
    "  + a list of keywords\n",
    "  + a list of key phrases\n",
    "  + a list of noun-adjective pairs \n",
    "  + a list of nounPhrase - adjectivePhrase pairs \n",
    "  + a list of representative sentences \n",
    "- [ ] Technical challenges to achieve ideal summarization and your solution.\n",
    "- [ ] Justify approach is best option for each component in your solution.\n",
    "- [ ] Justify limitations to your approach.\n",
    "- [ ] Evaluate solution with possible alternative solutions (baselines).\n",
    "- [ ] Randomly choose 3 products to create product review summary.\n",
    "\n",
    "Possible algorithms to try:\n",
    "- [x] (Extractive) Word frequency sentence extraction: score sentences by word freq\n",
    "- (Extractive) Text rank algorithm: uses cosine similarity\n",
    "- (Extractive/ Abstractive) Machine learning \n",
    "\n"
   ]
  },
  {
   "cell_type": "markdown",
   "metadata": {
    "colab_type": "text",
    "id": "2n5gRTPjH7K9"
   },
   "source": [
    "## Colab Configuration"
   ]
  },
  {
   "cell_type": "code",
   "execution_count": 29,
   "metadata": {
    "colab": {
     "base_uri": "https://localhost:8080/",
     "height": 51
    },
    "colab_type": "code",
    "executionInfo": {
     "elapsed": 2290,
     "status": "ok",
     "timestamp": 1585629066128,
     "user": {
      "displayName": "Mary Jane",
      "photoUrl": "",
      "userId": "07660901481909097477"
     },
     "user_tz": -480
    },
    "id": "ZMq2SgGeHWzi",
    "outputId": "10bb4927-ce07-43ec-b511-41b1e7448b66"
   },
   "outputs": [
    {
     "name": "stdout",
     "output_type": "stream",
     "text": [
      "Drive already mounted at /content/drive; to attempt to forcibly remount, call drive.mount(\"/content/drive\", force_remount=True).\n",
      "/content/drive/My Drive/Colab Notebooks/txtmgmt\n"
     ]
    }
   ],
   "source": [
    "from google.colab import drive\n",
    "drive.mount('/content/drive')\n",
    "import os \n",
    "os.chdir('/content/drive/My Drive/Colab Notebooks/txtmgmt')\n",
    "!pwd"
   ]
  },
  {
   "cell_type": "markdown",
   "metadata": {
    "colab_type": "text",
    "id": "5Ig1AgUZH2BK"
   },
   "source": [
    "## Import Modules & Configurations"
   ]
  },
  {
   "cell_type": "code",
   "execution_count": 0,
   "metadata": {
    "colab": {},
    "colab_type": "code",
    "id": "pkJYld8AHfxu"
   },
   "outputs": [],
   "source": [
    "from collections import OrderedDict\n",
    "import spacy\n",
    "from spacy.lang.en.stop_words import STOP_WORDS\n",
    "import pandas as pd\n",
    "import multiprocessing as mp\n",
    "import datetime\n",
    "from helpers.duallogger import loggersetup\n",
    "from helpers.filehelper import is_not_empty_file_exists, write_to_file, load_from_file\n",
    "import logging\n",
    "\n",
    "from nltk.corpus import stopwords\n",
    "import nltk\n",
    "import re\n",
    "import heapq"
   ]
  },
  {
   "cell_type": "code",
   "execution_count": 31,
   "metadata": {
    "colab": {
     "base_uri": "https://localhost:8080/",
     "height": 136
    },
    "colab_type": "code",
    "executionInfo": {
     "elapsed": 689,
     "status": "ok",
     "timestamp": 1585629071077,
     "user": {
      "displayName": "Mary Jane",
      "photoUrl": "",
      "userId": "07660901481909097477"
     },
     "user_tz": -480
    },
    "id": "E7PrOkqt7zMB",
    "outputId": "6a2f873e-9dfb-4a0e-ebaa-a77e4a7f7aab"
   },
   "outputs": [
    {
     "name": "stdout",
     "output_type": "stream",
     "text": [
      "[nltk_data] Downloading package punkt to /root/nltk_data...\n",
      "[nltk_data]   Package punkt is already up-to-date!\n",
      "[nltk_data] Downloading package stopwords to /root/nltk_data...\n",
      "[nltk_data]   Package stopwords is already up-to-date!\n",
      "sw nltk:  179\n",
      "sw spacy:  327\n",
      "combined:  383\n"
     ]
    }
   ],
   "source": [
    "nltk.download('punkt')\n",
    "nltk.download('stopwords')\n",
    "stopwords_nltk = stopwords.words('english')\n",
    "stopwords_spacy = list(STOP_WORDS)\n",
    "stopwords_spacy.append('\\n')\n",
    "stopwords = stopwords_nltk + list(set(stopwords_spacy) - set(stopwords_nltk))\n",
    "\n",
    "print(\"sw nltk: \", len(stopwords_nltk))\n",
    "print(\"sw spacy: \", len(stopwords_spacy))\n",
    "print(\"combined: \", len(stopwords))"
   ]
  },
  {
   "cell_type": "code",
   "execution_count": 32,
   "metadata": {
    "colab": {
     "base_uri": "https://localhost:8080/",
     "height": 51
    },
    "colab_type": "code",
    "executionInfo": {
     "elapsed": 753,
     "status": "ok",
     "timestamp": 1585629072563,
     "user": {
      "displayName": "Mary Jane",
      "photoUrl": "",
      "userId": "07660901481909097477"
     },
     "user_tz": -480
    },
    "id": "nCmKa36ZHx7v",
    "outputId": "6c853e55-f4a1-4a8e-e0a7-a3b33caed634"
   },
   "outputs": [
    {
     "name": "stdout",
     "output_type": "stream",
     "text": [
      "Cores: 2\n",
      "GPU: True\n"
     ]
    }
   ],
   "source": [
    "cores = mp.cpu_count()\n",
    "print(\"Cores:\", cores)\n",
    "gpu = spacy.prefer_gpu()\n",
    "print(\"GPU:\", gpu)\n",
    "\n",
    "log_dir = './logs/'\n",
    "log = loggersetup(log_dir, stdout_level=logging.DEBUG, file_level=logging.DEBUG)\n",
    "\n",
    "# log.debug('Debug message, should only appear in the file.')\n",
    "# log.info('Info message, should appear in file and stdout.')\n",
    "# log.warning('Warning message, should appear in file and stdout.')\n",
    "# log.error('Error message, should appear in file and stdout.')"
   ]
  },
  {
   "cell_type": "code",
   "execution_count": 0,
   "metadata": {
    "colab": {},
    "colab_type": "code",
    "id": "PCe36p0kH-TB"
   },
   "outputs": [],
   "source": [
    "parameters = OrderedDict()\n",
    "parameters['json_file'] = 'CellPhoneReview.json'\n",
    "parameters['reload_prod_reviews'] = True\n",
    "parameters['prod_reviews_path'] = './data/prod_reviews.data'\n",
    "parameters['clean_reviews'] = True\n",
    "parameters['reload_clean_reviews'] = True\n",
    "parameters['cleaned_reviews_path'] = './data/prod_reviews_cleaned.data'\n",
    "parameters['reload_collection_frequencies'] = True\n",
    "parameters['collection_frequencies_path'] = './data/word_doc_frequencies.data'"
   ]
  },
  {
   "cell_type": "markdown",
   "metadata": {
    "colab_type": "text",
    "id": "vqJyOITIH_JB"
   },
   "source": [
    "## Data Preprocessing\n",
    "\n",
    "* convert_lower_case(data)\n",
    "* lemma(data)\n",
    "* remove_punctuation(data)\n",
    "* remove_stop_words(data)"
   ]
  },
  {
   "cell_type": "code",
   "execution_count": 34,
   "metadata": {
    "colab": {
     "base_uri": "https://localhost:8080/",
     "height": 941
    },
    "colab_type": "code",
    "executionInfo": {
     "elapsed": 730,
     "status": "ok",
     "timestamp": 1585629077916,
     "user": {
      "displayName": "Mary Jane",
      "photoUrl": "",
      "userId": "07660901481909097477"
     },
     "user_tz": -480
    },
    "id": "3octqSUeIQce",
    "outputId": "d8203309-fc92-40e6-c71b-867d485ff702"
   },
   "outputs": [
    {
     "name": "stdout",
     "output_type": "stream",
     "text": [
      "[INFO] Reloading prod_reviews from ./data/prod_reviews.data\n"
     ]
    },
    {
     "data": {
      "text/html": [
       "<div>\n",
       "<style scoped>\n",
       "    .dataframe tbody tr th:only-of-type {\n",
       "        vertical-align: middle;\n",
       "    }\n",
       "\n",
       "    .dataframe tbody tr th {\n",
       "        vertical-align: top;\n",
       "    }\n",
       "\n",
       "    .dataframe thead th {\n",
       "        text-align: right;\n",
       "    }\n",
       "</style>\n",
       "<table border=\"1\" class=\"dataframe\">\n",
       "  <thead>\n",
       "    <tr style=\"text-align: right;\">\n",
       "      <th></th>\n",
       "      <th>asin</th>\n",
       "      <th>reviewText</th>\n",
       "    </tr>\n",
       "  </thead>\n",
       "  <tbody>\n",
       "    <tr>\n",
       "      <th>0</th>\n",
       "      <td>120401325X</td>\n",
       "      <td>These stickers work like the review says they do. They stick on great and they stay on the phone. They are super stylish and I can share them with my sister. :) These are awesome and make my phone look so stylish! I have only used one so far and have had it on for almost a year! CAN YOU BELIEVE THAT! ONE YEAR!! Great quality! Item arrived in great time and was in perfect condition. However, I ordered these buttons because they were a great deal and included a FREE screen protector. I never received one. Though its not a big deal, it would've been nice to get it since they claim it comes with one. awesome! stays on, and looks great. can be used on multiple apple products.  especially having nails, it helps to have an elevated key. These make using the home button easy. My daughter and I both like them.  I would purchase them again. Well worth the price. Came just as described.. It doesn't come unstuck and its cute! People ask where I got them from &amp; it's great when driving.</td>\n",
       "    </tr>\n",
       "    <tr>\n",
       "      <th>1</th>\n",
       "      <td>3998899561</td>\n",
       "      <td>it worked for the first week then it only charge my phone to 20%. it is a waste of money. Good case, solid build. Protects phone all around with good access to buttons. Battery charges with full battery lasts me a full day. I usually leave my house around 7am and return at 10pm. I'm glad that it lasts from start to end. 5/5 This is a fantastic case. Very stylish and protects my phone. Easy access to all buttons and features, without any loss of phone reception. But most importantly, it double power, just as promised. Great buy this case fits perfectly on the s4 and keeps me powerd all day I can't complain! a+ recommend it to all This is the first battery case I have had for my Galaxy S4. The S4 fits very well, is slim and doesn't add much weight to the Galaxy S4. It doubles the battery life. You can charge either the battery, the phone or both. There is a handy on-off switch with leds to indicate the level of charge.The battery case came on time and was packaged well. Well worth the price. Performs exactly as advertised . It's very  sturdily built,and provides lots of boost . It does exactly what it's supposed too .Easy to insert phone in and out . Definitely a 5 star experience. Don't know what I would do without this case LOVE LOVE LOVE it. Unlike Most of the Rechargeable Battery cases, PowerBear Lasts up to 2 whole days. It doesn't heat up like most of the other ones, and I was completely fascinated by the ultra light and sleek design for the case. Before I was using the Mophie case but I couldn't wear it often because it was like having a hot brick in your pocket, Hence I had to always leave it at home.On the contrary, with PowerBear, I never take it off because I can't even tell the difference. Also it is build in a super STRONG manner and even though I dropped my phone a few times, its shock resistant technology won't let a single thing happen to the case or the phone. The PowerBear case became an extension to my phone that I never have to take off because when I charge it at night, it charges both my phone and the case, and I have battery life for more than two days. I was also shocked to hear all the positive compliments I was hearing from people at my job, fitness center, and throughout the community. Everybody was loving the case, and what they don't know is that it cost  me 60 % CHEAPER then all the other brand. This is the best purchase I've made on the internet, and I am going to buy more for my family in time for the Holidays. THANK YOU POWERBEAR!!!!!!!!!!!!!! Just what I needed. I needed a phone case for myself and my two sons, but I also needed new replacement batteries. Now this isn't the case, since I got both in one. Awesome thanks A+ When there is no outlets, or chargers near by its Powerbear to the rescue! Ordered one for my husband, and myself. Great purchase!! It works great. Doesn't heat up like crazy like the other ones I got, and cheaper too! Its definetly the best power case for the S4 you can get, thats why I got one for me and my wife. I wonder why its called power bear..</td>\n",
       "    </tr>\n",
       "    <tr>\n",
       "      <th>2</th>\n",
       "      <td>6073894996</td>\n",
       "      <td>Surprisingly, this inexpensive version works just as well and just as reliably as the expensive variety. It has been working for me for months now. No problem. Excellent value. I have tested this against the griffin dual output unit.I checked the charging current.This unit was charging my galaxy note battery with 70 ma.Griffin was charging with 40 ma! And the griffin was 4 times more expensive.I have not used these for very long. I bought 15 of them, because they are so cheap and because they actually do seem to provide high current.No idea how long they last. I assume they will work fine. I have not been using them much. I did the testing , just to stock up on a high current charger. This passed and I stocked up. It worked great for the first couple of weeks then it just stopped completely.. so basically a small waste of money. I love that it has two ports for my phone and ipod. Who wants to be putting too many things in one socket.  Sleek and convenient to store and I just love it. just what you need, I am always having to charge my phone and then find I have another item to charge also. does not have the need amps to charge things like ipads, or hp touchpads. but its super small and compact. They are nothing special for sure, but it's nice that you can tell when it is powered up by the led that glows in it.  able to charge two phones at once in the car which is nice. I have several chargers. Have more than one vehicle so I keep more than one of these in each. Nothing more frustrating than finding all of a sudden one quits working, and you have no way to recharge your phone. That is always when you need it most.  This one works well for any of my products. I bought this a little skeptical. After I tried it I bought two more. It works great and so far it has lasted for about 3 months. If that changes I will update this review. I am disappointed that the 1A didn't work with my iPad.  That's what I get for buying a cheap adapter. This is a nice charger but you can tell it was made cheaply in China.  When it is charging the phone, the car radio gets LOTS of static.  Not so much that I have to stop charging but like when you are near power lines and the radio station is far away.So, no RF shielding.I gave it 4 stars because it works fine for me, but if you listen to the radio, you might consider it is more like 2 or 3 stars. After a week only one side works Yo get exactly what you order in a timely fashion. And the item is just as described. Great buy if you ask me This is a terribly awesome product in my Subaru's console.  Passengers love it, I love it because it emits a blue glow, because it has held up to abuse over the years and performs like new. I've bough a munch of different things like this over the years. Most wouldn't stay in the jack, or would give out after a few days. This one is GREAT! Only works one side at a time. When you connect two cables, one side stop working and also overheated burning the fuses. I purchased two of them and it's the same problem. Cheap and bad quality. it works great i like i can charge two thing at the same now i dont have to wait for my to finish charging her phone It came at last, good looking and the price was good and i believe it is worth the time I waited for it to come to me good job Didn't last very long. Worked great when it worked but it is a cheap piece of plastic crap so I shouldn't have expected it to last. excellent product, works great , have easy handling, and good quality as it is announced. reached as is shown time and in very good condition thank you very much for everything Purchased two and we put one in each car. Now we charge our ipad and iohone together. Can also use to power my Galaxy Note 2 or recharge other USB devices. If you have to think about it you need counseling great charger for 2 devices and i haven't had any problems so far 3yrs now Purchased product about many a month ago. Pros: Loved it work just fine!! Cool Blue light feature when you plug it into the lighter!! Can plug in two things at one time....Con: Top clear piece came off easily overtime (I just put clear tape around the top) TOTAL: PROS:95% CONS:5% I bought this so that I could use and charge my Tab at the same time. My tab does not recognize the high power port and will either charge while off or use power while on, it will not charge while powered on. I bought this to charge my iphone and tablet in the car. works for iphone but not the tablet. I needed a stronger charge for that but this is still great for both iphoe and ipod together. it's cheap, small and compact Works great. The blue led light is a nice touch in the car. We charge a Samsung and Iphone using this outlet. Nice low profile too. works great and charges ipads, tablets, smartphones as well as bluetooth speakers and headsets. I would recommend it to anyone looking for a universal car charger. I could only give this USB car charger 2 stars because although it worked fine for about 3 months, it subsequently died on me.Pros:-Has 2 USB ports for charging, one (the top) is 2.1 amps.  The bottom slot is lower, presumably 1 or 1.5 amps.-Fits well in my charging socket - holds tight.  I've had some that were loose in my charging socket.-Works well to charge my iPhone in the top slot and the bottom slot works with most Android phones, except the very high end ones.-Has a blue LED light to tell you it is on and ready to charge.-The USB sockets seem to be well made and tightly fit all my cables.-Pretty solid construction.-It cost less than $2.Cons:-It died on me after 3 months.I had really enjoyed using this USB charger.  It rapidly charged my iPhone and worked well with charging the phones of my family and friends.  The two slot design makes this design very handy; with a 1 slot design, no one else can charge their device unless I remove my cord.  Of course, after this charger died, I had to go back to the 1 slot design I was using before.After 3 months, I began to notice the LED light flickering.  It was less than a week later that is quit working permanently.  I'm not sure what the problem was - faulty wiring, bad design, I guess I'll never know.  I thought about getting another since they are so cheap, but then I thought better of it.  Maybe they are so cheap because they are simply disposable after a short period of time.For whatever reason, it died and I was forced to look for another 2 slot design - I haven't found one in my price range yet. This charger works great and is short, unlike most chargers. It does a great job with charging both my phone and my GPS when I am in the car.  Great value and easy on the wallet. I bought 2 of this and tried to test first ... after few minutes of charging, it felt hot. Pulled it out and the product smelled burnt. Tried the other one too and same thing. Be careful... this one could be fire hazard or could potentially destroy the electrical system This portable USB Port car charger is a must have for people on the go.  Pair this with an extra or spare cord and you are good to go! I love the way it can charge 2 devices at once!  Seems to charge quicker without GPS on, with it on, it only holds the battery, but better than it dying!!! Bought so we could charge to phones at the same time while in the car from the same port.  Works. I received this product before I expected. It looks pretty good and It works with my Iphone (3GS) and my phone (HTC Evo V 3D). It is a good deal because It is not easy to find something like this for this price I have several of these, from various retailers, all the same, each made in some anonymous Chinese factory, all exactly alike.They're great. They really do work, and they do deliver 2.1 and 1.0 power as they say they will do. They do the job.You wouldn't expect much QC for a $2 electrical product, but they each work just fine.They don't last forever-- about a year or two of active daily use seems about par, then they suddenly die. So do have some replacements on hand. At this price, no problem.Yes, they work with both my iPhone and iPad. Also with every other USB device I've needed to charge.The LED light that indicates you are plugged in correctly is very helpful.These are great for rental cars and travel. If you leave one behind, hey, it's only $2.I'm totally pleased with these clever little gems. No complaints. I wouldn't be without a couple, especially for travel.Hope this is helpful. Happy trails, all. good product at low price.purchased this looking for a smaller charger and I love Griffin products.Free shipping just took a little longer I use this in my car to charge my phone and my iPod as needed. It works well, but the bright blue light can be annoying when driving at night. Overall, a very good deal.</td>\n",
       "    </tr>\n",
       "  </tbody>\n",
       "</table>\n",
       "</div>"
      ],
      "text/plain": [
       "         asin  \\\n",
       "0  120401325X   \n",
       "1  3998899561   \n",
       "2  6073894996   \n",
       "\n",
       "                                                                                                                                                                                                                                                                                                                                                                                                                                                                                                                                                                                                                                                                                                                                                                                                                                                                                                                                                                                                                                                                                                                                                                                                                                                                                                                                                                                                                                                                                                                                                                                                                                                                                                                                                                                                                                                                                                                                                                                                                                                                                                                                                                                                                                                                                                                                                                                                                                                                                                                                                                                                                                                                                                                                                                                                                                                                                                                                                                                                                                                                                                                                                                                                                                                                                                                                                                                                                                                                                                                                                                                                                                                                                                                                                                                                                                                                                                                                                                                                                                                                                                                                                                                                                                                                                                                                                                                                                                                                                                                                                                                                                                                                                                                                                                                                                                                                                                                                                                                                                                                                                                                                                                                                                                                                                                                                                                                                                                                                                                                                                                                                                                                                                                                                                                                                                                                                                                                                                                                                                                                                                                                                                                                                                                                                                                                                                                                                                                                                                                                                                                                                                                                                                                                                                                                                                                                                                                                                                                                                                                                                                                                                                                                                                                                                                                                                                                                                                                                                                                                                                                                                                                                                                                                                                                                                                                                                                                                                                                                                                                                                                                                                                                                                                                                                                                                                                                                                                                                                                                                                                                                                                                                                                                                                                                                                                                                                                                                                                                                                                                                                                          reviewText  \n",
       "0  These stickers work like the review says they do. They stick on great and they stay on the phone. They are super stylish and I can share them with my sister. :) These are awesome and make my phone look so stylish! I have only used one so far and have had it on for almost a year! CAN YOU BELIEVE THAT! ONE YEAR!! Great quality! Item arrived in great time and was in perfect condition. However, I ordered these buttons because they were a great deal and included a FREE screen protector. I never received one. Though its not a big deal, it would've been nice to get it since they claim it comes with one. awesome! stays on, and looks great. can be used on multiple apple products.  especially having nails, it helps to have an elevated key. These make using the home button easy. My daughter and I both like them.  I would purchase them again. Well worth the price. Came just as described.. It doesn't come unstuck and its cute! People ask where I got them from & it's great when driving.                                                                                                                                                                                                                                                                                                                                                                                                                                                                                                                                                                                                                                                                                                                                                                                                                                                                                                                                                                                                                                                                                                                                                                                                                                                                                                                                                                                                                                                                                                                                                                                                                                                                                                                                                                                                                                                                                                                                                                                                                                                                                                                                                                                                                                                                                                                                                                                                                                                                                                                                                                                                                                                                                                                                                                                                                                                                                                                                                                                                                                                                                                                                                                                                                                                                                                                                                                                                                                                                                                                                                                                                                                                                                                                                                                                                                                                                                                                                                                                                                                                                                                                                                                                                                                                                                                                                                                                                                                                                                                                                                                                                                                                                                                                                                                                                                                                                                                                                                                                                                                                                                                                                                                                                                                                                                                                                                                                                                                                                                                                                                                                                                                                                                                                                                                                                                                                                                                                                                                                                                                                                                                                                                                                                                                                                                                                                                                                                                                                                                                                                                                                                                                                                                                                                                                                                                                                                                                                                                                                                                                                                                                                                                                                                                                                                                                                                                                                                                                                                                                                                                                                                                                                                                                                                                                                                                                                                                                                                                                                                                                                                        \n",
       "1  it worked for the first week then it only charge my phone to 20%. it is a waste of money. Good case, solid build. Protects phone all around with good access to buttons. Battery charges with full battery lasts me a full day. I usually leave my house around 7am and return at 10pm. I'm glad that it lasts from start to end. 5/5 This is a fantastic case. Very stylish and protects my phone. Easy access to all buttons and features, without any loss of phone reception. But most importantly, it double power, just as promised. Great buy this case fits perfectly on the s4 and keeps me powerd all day I can't complain! a+ recommend it to all This is the first battery case I have had for my Galaxy S4. The S4 fits very well, is slim and doesn't add much weight to the Galaxy S4. It doubles the battery life. You can charge either the battery, the phone or both. There is a handy on-off switch with leds to indicate the level of charge.The battery case came on time and was packaged well. Well worth the price. Performs exactly as advertised . It's very  sturdily built,and provides lots of boost . It does exactly what it's supposed too .Easy to insert phone in and out . Definitely a 5 star experience. Don't know what I would do without this case LOVE LOVE LOVE it. Unlike Most of the Rechargeable Battery cases, PowerBear Lasts up to 2 whole days. It doesn't heat up like most of the other ones, and I was completely fascinated by the ultra light and sleek design for the case. Before I was using the Mophie case but I couldn't wear it often because it was like having a hot brick in your pocket, Hence I had to always leave it at home.On the contrary, with PowerBear, I never take it off because I can't even tell the difference. Also it is build in a super STRONG manner and even though I dropped my phone a few times, its shock resistant technology won't let a single thing happen to the case or the phone. The PowerBear case became an extension to my phone that I never have to take off because when I charge it at night, it charges both my phone and the case, and I have battery life for more than two days. I was also shocked to hear all the positive compliments I was hearing from people at my job, fitness center, and throughout the community. Everybody was loving the case, and what they don't know is that it cost  me 60 % CHEAPER then all the other brand. This is the best purchase I've made on the internet, and I am going to buy more for my family in time for the Holidays. THANK YOU POWERBEAR!!!!!!!!!!!!!! Just what I needed. I needed a phone case for myself and my two sons, but I also needed new replacement batteries. Now this isn't the case, since I got both in one. Awesome thanks A+ When there is no outlets, or chargers near by its Powerbear to the rescue! Ordered one for my husband, and myself. Great purchase!! It works great. Doesn't heat up like crazy like the other ones I got, and cheaper too! Its definetly the best power case for the S4 you can get, thats why I got one for me and my wife. I wonder why its called power bear..                                                                                                                                                                                                                                                                                                                                                                                                                                                                                                                                                                                                                                                                                                                                                                                                                                                                                                                                                                                                                                                                                                                                                                                                                                                                                                                                                                                                                                                                                                                                                                                                                                                                                                                                                                                                                                                                                                                                                                                                                                                                                                                                                                                                                                                                                                                                                                                                                                                                                                                                                                                                                                                                                                                                                                                                                                                                                                                                                                                                                                                                                                                                                                                                                                                                                                                                                                                                                                                                                                                                                                                                                                                                                                                                                                                                                                                                                                                                                                                                                                                                                                                                                                                                                                                                                                                                                                                                                                                                                                                                                                                                                                                                                                                                                                                                                                                                                                                                                                                                                                                                                                                                                                                                                                                                                                                                                                                                                                                                                                                                                                                                                                                                                                                                                                                                                                                                                                                    \n",
       "2  Surprisingly, this inexpensive version works just as well and just as reliably as the expensive variety. It has been working for me for months now. No problem. Excellent value. I have tested this against the griffin dual output unit.I checked the charging current.This unit was charging my galaxy note battery with 70 ma.Griffin was charging with 40 ma! And the griffin was 4 times more expensive.I have not used these for very long. I bought 15 of them, because they are so cheap and because they actually do seem to provide high current.No idea how long they last. I assume they will work fine. I have not been using them much. I did the testing , just to stock up on a high current charger. This passed and I stocked up. It worked great for the first couple of weeks then it just stopped completely.. so basically a small waste of money. I love that it has two ports for my phone and ipod. Who wants to be putting too many things in one socket.  Sleek and convenient to store and I just love it. just what you need, I am always having to charge my phone and then find I have another item to charge also. does not have the need amps to charge things like ipads, or hp touchpads. but its super small and compact. They are nothing special for sure, but it's nice that you can tell when it is powered up by the led that glows in it.  able to charge two phones at once in the car which is nice. I have several chargers. Have more than one vehicle so I keep more than one of these in each. Nothing more frustrating than finding all of a sudden one quits working, and you have no way to recharge your phone. That is always when you need it most.  This one works well for any of my products. I bought this a little skeptical. After I tried it I bought two more. It works great and so far it has lasted for about 3 months. If that changes I will update this review. I am disappointed that the 1A didn't work with my iPad.  That's what I get for buying a cheap adapter. This is a nice charger but you can tell it was made cheaply in China.  When it is charging the phone, the car radio gets LOTS of static.  Not so much that I have to stop charging but like when you are near power lines and the radio station is far away.So, no RF shielding.I gave it 4 stars because it works fine for me, but if you listen to the radio, you might consider it is more like 2 or 3 stars. After a week only one side works Yo get exactly what you order in a timely fashion. And the item is just as described. Great buy if you ask me This is a terribly awesome product in my Subaru's console.  Passengers love it, I love it because it emits a blue glow, because it has held up to abuse over the years and performs like new. I've bough a munch of different things like this over the years. Most wouldn't stay in the jack, or would give out after a few days. This one is GREAT! Only works one side at a time. When you connect two cables, one side stop working and also overheated burning the fuses. I purchased two of them and it's the same problem. Cheap and bad quality. it works great i like i can charge two thing at the same now i dont have to wait for my to finish charging her phone It came at last, good looking and the price was good and i believe it is worth the time I waited for it to come to me good job Didn't last very long. Worked great when it worked but it is a cheap piece of plastic crap so I shouldn't have expected it to last. excellent product, works great , have easy handling, and good quality as it is announced. reached as is shown time and in very good condition thank you very much for everything Purchased two and we put one in each car. Now we charge our ipad and iohone together. Can also use to power my Galaxy Note 2 or recharge other USB devices. If you have to think about it you need counseling great charger for 2 devices and i haven't had any problems so far 3yrs now Purchased product about many a month ago. Pros: Loved it work just fine!! Cool Blue light feature when you plug it into the lighter!! Can plug in two things at one time....Con: Top clear piece came off easily overtime (I just put clear tape around the top) TOTAL: PROS:95% CONS:5% I bought this so that I could use and charge my Tab at the same time. My tab does not recognize the high power port and will either charge while off or use power while on, it will not charge while powered on. I bought this to charge my iphone and tablet in the car. works for iphone but not the tablet. I needed a stronger charge for that but this is still great for both iphoe and ipod together. it's cheap, small and compact Works great. The blue led light is a nice touch in the car. We charge a Samsung and Iphone using this outlet. Nice low profile too. works great and charges ipads, tablets, smartphones as well as bluetooth speakers and headsets. I would recommend it to anyone looking for a universal car charger. I could only give this USB car charger 2 stars because although it worked fine for about 3 months, it subsequently died on me.Pros:-Has 2 USB ports for charging, one (the top) is 2.1 amps.  The bottom slot is lower, presumably 1 or 1.5 amps.-Fits well in my charging socket - holds tight.  I've had some that were loose in my charging socket.-Works well to charge my iPhone in the top slot and the bottom slot works with most Android phones, except the very high end ones.-Has a blue LED light to tell you it is on and ready to charge.-The USB sockets seem to be well made and tightly fit all my cables.-Pretty solid construction.-It cost less than $2.Cons:-It died on me after 3 months.I had really enjoyed using this USB charger.  It rapidly charged my iPhone and worked well with charging the phones of my family and friends.  The two slot design makes this design very handy; with a 1 slot design, no one else can charge their device unless I remove my cord.  Of course, after this charger died, I had to go back to the 1 slot design I was using before.After 3 months, I began to notice the LED light flickering.  It was less than a week later that is quit working permanently.  I'm not sure what the problem was - faulty wiring, bad design, I guess I'll never know.  I thought about getting another since they are so cheap, but then I thought better of it.  Maybe they are so cheap because they are simply disposable after a short period of time.For whatever reason, it died and I was forced to look for another 2 slot design - I haven't found one in my price range yet. This charger works great and is short, unlike most chargers. It does a great job with charging both my phone and my GPS when I am in the car.  Great value and easy on the wallet. I bought 2 of this and tried to test first ... after few minutes of charging, it felt hot. Pulled it out and the product smelled burnt. Tried the other one too and same thing. Be careful... this one could be fire hazard or could potentially destroy the electrical system This portable USB Port car charger is a must have for people on the go.  Pair this with an extra or spare cord and you are good to go! I love the way it can charge 2 devices at once!  Seems to charge quicker without GPS on, with it on, it only holds the battery, but better than it dying!!! Bought so we could charge to phones at the same time while in the car from the same port.  Works. I received this product before I expected. It looks pretty good and It works with my Iphone (3GS) and my phone (HTC Evo V 3D). It is a good deal because It is not easy to find something like this for this price I have several of these, from various retailers, all the same, each made in some anonymous Chinese factory, all exactly alike.They're great. They really do work, and they do deliver 2.1 and 1.0 power as they say they will do. They do the job.You wouldn't expect much QC for a $2 electrical product, but they each work just fine.They don't last forever-- about a year or two of active daily use seems about par, then they suddenly die. So do have some replacements on hand. At this price, no problem.Yes, they work with both my iPhone and iPad. Also with every other USB device I've needed to charge.The LED light that indicates you are plugged in correctly is very helpful.These are great for rental cars and travel. If you leave one behind, hey, it's only $2.I'm totally pleased with these clever little gems. No complaints. I wouldn't be without a couple, especially for travel.Hope this is helpful. Happy trails, all. good product at low price.purchased this looking for a smaller charger and I love Griffin products.Free shipping just took a little longer I use this in my car to charge my phone and my iPod as needed. It works well, but the bright blue light can be annoying when driving at night. Overall, a very good deal.  "
      ]
     },
     "execution_count": 34,
     "metadata": {
      "tags": []
     },
     "output_type": "execute_result"
    }
   ],
   "source": [
    "if not parameters['reload_prod_reviews'] or not is_not_empty_file_exists(parameters['prod_reviews_path']):\n",
    "    data = pd.read_json(parameters['json_file'], lines = True)\n",
    "    prod_reviews = data.groupby(['asin'])['reviewText'].apply(' '.join).reset_index()\n",
    "    log.info(\"Writing prod_reviews to %s\" % parameters['prod_reviews_path'])\n",
    "    write_to_file(parameters['prod_reviews_path'], prod_reviews)\n",
    "else:\n",
    "    log.info(\"Reloading prod_reviews from %s\" % parameters['prod_reviews_path'])\n",
    "    prod_reviews = load_from_file(parameters['prod_reviews_path'])\n",
    "\n",
    "pd.set_option('display.max_rows', None)\n",
    "pd.set_option('display.max_columns', None)\n",
    "pd.set_option('display.width', None)\n",
    "pd.set_option('display.max_colwidth', -1)\n",
    "prod_reviews.head(3) "
   ]
  },
  {
   "cell_type": "code",
   "execution_count": 35,
   "metadata": {
    "colab": {
     "base_uri": "https://localhost:8080/",
     "height": 34
    },
    "colab_type": "code",
    "executionInfo": {
     "elapsed": 1393,
     "status": "ok",
     "timestamp": 1585629081047,
     "user": {
      "displayName": "Mary Jane",
      "photoUrl": "",
      "userId": "07660901481909097477"
     },
     "user_tz": -480
    },
    "id": "P6hptM4A1S7K",
    "outputId": "42b49dc9-d69c-475b-8c07-381be4723438"
   },
   "outputs": [
    {
     "name": "stdout",
     "output_type": "stream",
     "text": [
      "['tagger', 'parser', 'ner']\n"
     ]
    }
   ],
   "source": [
    "# Create the nlp object\n",
    "nlp = spacy.load(\"en_core_web_sm\")\n",
    "\n",
    "# def set_custom_boundaries(doc):\n",
    "#     for i, token in enumerate(doc):\n",
    "#         if token.text in (\"but\"):\n",
    "#             doc[i].is_sent_start = False\n",
    "#         if token.text in (\"’s\", \"'s\"):\n",
    "#             doc[i].is_sent_start = False\n",
    "#         elif token.text in (\"“\", \"‘\") and i < len(doc) - 1:\n",
    "#             # opening quote\n",
    "#             doc[i+1].is_sent_start = False\n",
    "#         elif token.text in (\"”\", \"’\"):\n",
    "#             # closing quote\n",
    "#             doc[i].is_sent_start = False\n",
    "#     return doc\n",
    "\n",
    "# nlp.add_pipe(set_custom_boundaries, before=\"parser\")\n",
    "\n",
    "print(nlp.pipe_names)"
   ]
  },
  {
   "cell_type": "code",
   "execution_count": 47,
   "metadata": {
    "colab": {
     "base_uri": "https://localhost:8080/",
     "height": 88
    },
    "colab_type": "code",
    "executionInfo": {
     "elapsed": 1390,
     "status": "ok",
     "timestamp": 1585629695768,
     "user": {
      "displayName": "Mary Jane",
      "photoUrl": "",
      "userId": "07660901481909097477"
     },
     "user_tz": -480
    },
    "id": "KjxXiQvnzS9p",
    "outputId": "87afa0ea-93ad-42c8-c0f8-b3a94cc65ac4"
   },
   "outputs": [
    {
     "name": "stdout",
     "output_type": "stream",
     "text": [
      "[INFO] Reloading cleaned reviews from ./data/prod_reviews_cleaned.data\n",
      "['great product order future .', 'money spend', 'need great car charger need', 'light port little rough charge phone fine .', 'wish little reach use phone passenger seat car comfortably big problem .', 'reach pretty far coil section stress charge port phone people realize eventually break .', 'purchase charger sister girlfriend .', 'samsung galaxy phone need car charger oem fanboy swoop couple remain slightly skeptical actually mail price .', 'happy report definitely receive 2 oem samsung car charger mail seal bag barcode kind normally receive new refurb phone .', 'wrong price certainly argue benefit oem vs. generic output reliability list .', 'buy samsung charge .', 'work perfectly build solidly 20 verizon charger .', 'highly recommend car charger thank great price', 'need pleased .', 'buy cheap lame .', 'charger work great .', 'issue .', 'wish retractable cord like charger use love .']\n",
      "['This is another great product and i will always order from here in the future.', 'money spent well!!', 'If you need a great car charger this is the one you need!!', 'goes into the lighter port a little rough but it charges the phone fine.', 'I wish it had a little more reach so i could use the phone from the passenger seat of the car more comfortably but its not a big problem.', 'it will reach pretty far because of the coiled section but this will put stress on the charge port of your phone which many people dont realize will eventually break it.', 'I purchased two of these chargers for my sister and girlfriend.', 'They both have Samsung Galaxy phones and needed a car charger so being the OEM fanboy I am, I swooped up on a couple of these for them while remaining slightly skeptical of what was actually going to show up in the mail at this price.', \"I'm happy to report I definitely received 2 OEM Samsung car chargers in the mail in sealed bags with part # barcodes (the kind you'd normally receive in a new/refurb phone).\", \"Can't go wrong with the price and certainly can't argue with the benefits of OEM vs. generic (mA output and reliability at the top of the list!).\", 'I bought this for my Samsung Charge.', 'It works perfectly and is built as solidly as the $20 Verizon charger.', 'I highly recommend this car charger and thanks for the great price!', 'It does what it needs to do, very pleased.', 'I bought some other cheap lame one and will never go back.', 'Charger works great.', \"Haven't had any issues with it at all.\", \"I wish it has a retractable cord like some other chargers I've used, but other than that, I love it.\"]\n"
     ]
    }
   ],
   "source": [
    "sentnlp = spacy.load(\"en_core_web_sm\", disable=['parser', 'ner', 'tagger'])\n",
    "sentnlp.add_pipe(nlp.create_pipe('sentencizer'))\n",
    "\n",
    "# Define function to cleanup text by removing personal pronouns, stopwords, and punctuations\n",
    "def cleanup_text(text, stopwords, punc):\n",
    "    texts = []\n",
    "    global sentnlp\n",
    "    doc = sentnlp(text) # only do tokenization and pos tagging\n",
    "    for sentence in doc.sents:\n",
    "        sen_text = nlp(sentence.text, disable=['parser', 'ner'])\n",
    "        tokens = [tok.lemma_.lower().strip() for tok in sen_text if tok.lemma_ != '-PRON-']\n",
    "        tokens = [tok for tok in tokens if tok not in stopwords and tok not in punc]\n",
    "        tokens = ' '.join(tokens)\n",
    "        texts.append(tokens)\n",
    "    return str(texts)\n",
    "\n",
    "def tokenize_sentences(text): \n",
    "    texts = []\n",
    "    global sentnlp\n",
    "    doc = sentnlp(text) # only do tokenization and pos tagging\n",
    "    for idx, sentence in enumerate(doc.sents):\n",
    "        texts.append(sentence.text)\n",
    "    return str(texts)\n",
    "\n",
    "if parameters['clean_reviews']:\n",
    "    if not parameters['reload_clean_reviews'] or not is_not_empty_file_exists(parameters['cleaned_reviews_path']):\n",
    "        punctuations = '!\"#$%&\\'()*+,-/:;<=>?@[\\\\]^_`{|}~©'\n",
    "        log.debug(\"reviews to be stripped away with stopwords and punctation\")\n",
    "        prod_reviews['processedSentences'] = prod_reviews['reviewText'].apply(lambda x: cleanup_text(x, stopwords, punctuations))\n",
    "        prod_reviews['reviewSentences'] = prod_reviews['reviewText'].apply(lambda x: tokenize_sentences(x))\n",
    "        log.info(\"Writing cleaned reviews to %s\" % parameters['cleaned_reviews_path'])\n",
    "        write_to_file(parameters['cleaned_reviews_path'], prod_reviews)\n",
    "    else:\n",
    "        log.info(\"Reloading cleaned reviews from %s\" % parameters['cleaned_reviews_path'])\n",
    "        prod_reviews = load_from_file(parameters['cleaned_reviews_path'])\n",
    "        \n",
    "else:\n",
    "    log.info(\"unprocessed reviews will be used\")\n",
    "    prod_reviews['reviewSentences'] = prod_reviews['reviewText'].apply(lambda x: tokenize_sentences(x))\n",
    "    prod_reviews['processedSentences'] = prod_reviews['reviewSentences']\n",
    "\n",
    "print(prod_reviews['processedSentences'][7])\n",
    "print(prod_reviews['reviewSentences'][7])"
   ]
  },
  {
   "cell_type": "markdown",
   "metadata": {
    "colab_type": "text",
    "id": "OCcd3bnzVVer"
   },
   "source": [
    "## Review Summarizer"
   ]
  },
  {
   "cell_type": "markdown",
   "metadata": {
    "colab_type": "text",
    "id": "MzJB0PQ4nMN2"
   },
   "source": [
    "### Collection Frequency"
   ]
  },
  {
   "cell_type": "code",
   "execution_count": 52,
   "metadata": {
    "colab": {
     "base_uri": "https://localhost:8080/",
     "height": 88,
     "output_embedded_package_id": "1eUB-k7annQJSeLQlaklBXB6aT4_YEgNi"
    },
    "colab_type": "code",
    "executionInfo": {
     "elapsed": 48644,
     "status": "ok",
     "timestamp": 1585629947624,
     "user": {
      "displayName": "Mary Jane",
      "photoUrl": "",
      "userId": "07660901481909097477"
     },
     "user_tz": -480
    },
    "id": "FGaPJrCFnOjx",
    "outputId": "d910578a-2a7c-4b5f-95fa-72d064b3dc5e"
   },
   "outputs": [
    {
     "data": {
      "text/plain": [
       "Output hidden; open in https://colab.research.google.com to view."
      ]
     },
     "metadata": {},
     "output_type": "display_data"
    }
   ],
   "source": [
    "import numpy as np\n",
    "def collection_frequencies(prod_reviews, use_cleaned) -> dict:\n",
    "    collection_frequencies = {}\n",
    "    for index, row in prod_reviews.iterrows():\n",
    "        seen_tokens = set()\n",
    "        if (use_cleaned):\n",
    "            reviews = ' '.join(str(x) for x in eval(row['processedSentences'])) \n",
    "        else:\n",
    "            reviews = ' '.join(str(x) for x in eval(row['reviewSentences'])) \n",
    "        for token in nlp.make_doc(reviews):   #tokenize\n",
    "            if token.text in seen_tokens:\n",
    "                continue\n",
    "            if token.text not in stopwords:\n",
    "                if token.text not in collection_frequencies.keys():\n",
    "                    collection_frequencies[token.text] = 1\n",
    "                else:\n",
    "                    collection_frequencies[token.text] += 1\n",
    "            seen_tokens.add(token.text)\n",
    "    return collection_frequencies\n",
    "\n",
    "if not parameters['reload_collection_frequencies'] or not is_not_empty_file_exists(parameters['collection_frequencies_path']):\n",
    "    word_doc_frequencies = collection_frequencies(prod_reviews, parameters['clean_reviews'])\n",
    "    log.info(\"Writing collection frequencies to %s\" % parameters['collection_frequencies_path'])\n",
    "    write_to_file(parameters['collection_frequencies_path'], word_doc_frequencies)\n",
    "else:\n",
    "    log.info(\"Reloading collection frequencies from %s\" % parameters['collection_frequencies_path'])\n",
    "    word_doc_frequencies = load_from_file(parameters['collection_frequencies_path'])\n",
    "\n",
    "print(word_doc_frequencies)\n",
    "print(type(word_doc_frequencies))"
   ]
  },
  {
   "cell_type": "markdown",
   "metadata": {
    "colab_type": "text",
    "id": "Kc3GBXzwIiAj"
   },
   "source": [
    "### Tokenize Words & Calculate Word Frequency \n",
    "\n",
    "Only calculate word frequencies of non-stopwords\n",
    "\n"
   ]
  },
  {
   "cell_type": "code",
   "execution_count": 0,
   "metadata": {
    "colab": {},
    "colab_type": "code",
    "id": "rCQG3vlPEhcG"
   },
   "outputs": [],
   "source": [
    "def _word_frequency(review) -> dict: \n",
    "  global stopwords \n",
    "  word_frequencies = {}  \n",
    "  for token in nlp.make_doc(review):   #tokenize\n",
    "      if token.text not in stopwords:\n",
    "          if token.text not in word_frequencies.keys():\n",
    "              word_frequencies[token.text] = 1\n",
    "          else:\n",
    "              word_frequencies[token.text] += 1\n",
    "  return word_frequencies\n",
    "\n",
    "# wf = _word_frequency(prod_reviews['reviewText'][8])\n",
    "# print(wf)"
   ]
  },
  {
   "cell_type": "markdown",
   "metadata": {
    "colab_type": "text",
    "id": "wmPUlAY9JFmy"
   },
   "source": [
    "### Tokenize Sentences & Score Sentences"
   ]
  },
  {
   "cell_type": "code",
   "execution_count": 0,
   "metadata": {
    "colab": {},
    "colab_type": "code",
    "id": "i3YejV3xJPXY"
   },
   "outputs": [],
   "source": [
    "def _tokenize_sentences(review) -> dict:\n",
    "  global sentnlp\n",
    "  doc = sentnlp(review)\n",
    "  sentence_dict = {}\n",
    "  for _, sentence in enumerate(doc.sents): \n",
    "    tokenized_sent = re.sub(r'[^\\w\\s]','', str(sentence))\n",
    "    if tokenized_sent is not None:\n",
    "      sentence_dict[tokenized_sent.strip()] = len(nlp.make_doc(sentence.text))\n",
    "  return sentence_dict\n",
    "\n",
    "# sent_dict = _tokenize_sentences(prod_reviews['reviewText'][8])\n",
    "# print([(key, value) for key, value in sent_dict.items()])\n",
    "\n",
    "# def _score_sentences(sentences:dict, word_frequencies:dict) -> dict:\n",
    "#     \"\"\"Score sentences based on word frequencies\"\"\"\n",
    "#     sentence_scores = {}\n",
    "\n",
    "#     for sent, word_count_in_sent in sentences.items():\n",
    "#         for word_freq in word_frequencies:\n",
    "#             if word_freq in sent.lower():\n",
    "#                 if sent in sentence_scores: # use first 10 char as key\n",
    "#                     sentence_scores[sent] += word_frequencies[word_freq]\n",
    "#                 else:\n",
    "#                     sentence_scores[sent] = word_frequencies[word_freq]\n",
    "        \n",
    "#         if sent in sentence_scores: # divide sentence score by word count to reduce advantages of long sentences\n",
    "#           sentence_scores[sent] = sentence_scores[sent] / word_count_in_sent\n",
    "\n",
    "#     return sentence_scores\n",
    "\n",
    "# sent_scores = _score_sentences(sent_dict, wf)\n",
    "# print([(key, value) for key, value in sent_scores.items()])"
   ]
  },
  {
   "cell_type": "markdown",
   "metadata": {
    "colab_type": "text",
    "id": "bYD6RBtouxr3"
   },
   "source": [
    "### Sentence-level Summarizer\n"
   ]
  },
  {
   "cell_type": "code",
   "execution_count": 54,
   "metadata": {
    "colab": {
     "base_uri": "https://localhost:8080/",
     "height": 51
    },
    "colab_type": "code",
    "executionInfo": {
     "elapsed": 887,
     "status": "ok",
     "timestamp": 1585630673915,
     "user": {
      "displayName": "Mary Jane",
      "photoUrl": "",
      "userId": "07660901481909097477"
     },
     "user_tz": -480
    },
    "id": "yaC4c1728taN",
    "outputId": "8d2aa647-bcab-404c-9d69-fc315844d5ac"
   },
   "outputs": [
    {
     "name": "stdout",
     "output_type": "stream",
     "text": [
      "22\n",
      "22\n"
     ]
    }
   ],
   "source": [
    "  index = 10\n",
    "  processedSentences = eval(prod_reviews['processedSentences'][index])\n",
    "  reviewSentences = eval(prod_reviews['reviewSentences'][index])\n",
    "\n",
    "  print(len(processedSentences))\n",
    "  print(len(reviewSentences))"
   ]
  },
  {
   "cell_type": "code",
   "execution_count": 69,
   "metadata": {
    "colab": {
     "base_uri": "https://localhost:8080/",
     "height": 1000
    },
    "colab_type": "code",
    "executionInfo": {
     "elapsed": 732,
     "status": "ok",
     "timestamp": 1585631239407,
     "user": {
      "displayName": "Mary Jane",
      "photoUrl": "",
      "userId": "07660901481909097477"
     },
     "user_tz": -480
    },
    "id": "x74pUnehm1U2",
    "outputId": "c59c9780-29e6-4f22-aa73-9df96d39bbe9"
   },
   "outputs": [
    {
     "name": "stdout",
     "output_type": "stream",
     "text": [
      "[DEBUG] vocab: 70\n",
      "[DEBUG] 70\n",
      "[DEBUG] num of sentences: 22\n",
      "[DEBUG] sentences: ['charge way .', 'double battery liek promise .', 'case protect color awesome nice color amazing friend jealous ask .', 'jealous tell pay', 'great case power stylish .', 'match 5c perfectly :) slim think ad 125 battery .', 'charge day case .', 'great quality product love case perfect sidekick dye phone .', 'phone charge anytime thank powerbear .', 'like case', '5 star deff', 'case help run day smoothly worry phone dying .', 'plus color beautiful .', 'buy wife .', 'act phone protector charge case .', 'hold charge day complaint .', 'powerbear case lifesaver', 'charge fast reliable .', 'love glossy texture case .', 'highly recommend', 'build design case cool attractive color .', 'phone die quickly']\n",
      "ERROR! Session/line number was not unique in database. History logging moved to new session 61\n",
      "[DEBUG] highest_cos_idx: [ 2 16  8]\n",
      "[DEBUG] original_sentences: ['charges me up all the way.', 'doubles my battery liek promised.', 'case protects well and the color is awesome nice The color is amazing all of my friends are jealous and ask me where did I get it.', 'They are even more jealous when I tell them how much I paid for it!', 'Great case, powers me up and VERY stylish.', 'Matches my 5C PERFECTLY :) much slimmer than I thought and it ads 125% battery.', 'I am charged for the full day with this case.', 'Great quality product , I love this case it is the perfect sidekick to an always dyeing phone .', 'Now my phone is charged anywhere anytime thanks to powerbear .', 'Really like the name of the case as well !!', '5 stars deff !', 'This case helps me run my day smoothly without having to worry about my phone dying.', 'Plus the color is very beautiful.', 'Bought one for me and another for the wife.', 'Acts as phone protector and charging case in one.', 'Hold charge all day so no complaints.', 'This PowerBear case is a lifesaver!!', 'Charges fast, always reliable.', 'I also love the glossy texture of the case.', 'Highly recommend!!', 'This is a very well built and designed case,with a very cool and attractive color.', 'Phone dies too quickly without it']\n",
      "[DEBUG] num of ori sentences: 22\n",
      "[DEBUG] idx: 2 ori: case protects well and the color is awesome nice The color is amazing all of my friends are jealous and ask me where did I get it. cleaned: case protect color awesome nice color amazing friend jealous ask .\n",
      "[DEBUG] cos_vec: [0.00000000e+00 0.00000000e+00 1.91957002e-04 0.00000000e+00\n",
      " 0.00000000e+00 0.00000000e+00 0.00000000e+00 2.71687824e-01\n",
      " 7.69294733e-01 1.44857751e+00 1.24145479e+00 3.90273978e-01\n",
      " 1.60847868e+00 1.19188999e+00 4.64631213e+00 1.54847463e+00\n",
      " 0.00000000e+00 0.00000000e+00 0.00000000e+00 0.00000000e+00\n",
      " 0.00000000e+00 0.00000000e+00 0.00000000e+00 0.00000000e+00\n",
      " 0.00000000e+00 0.00000000e+00 0.00000000e+00 0.00000000e+00\n",
      " 0.00000000e+00 0.00000000e+00 0.00000000e+00 0.00000000e+00\n",
      " 0.00000000e+00 0.00000000e+00 0.00000000e+00 0.00000000e+00\n",
      " 0.00000000e+00 0.00000000e+00 0.00000000e+00 0.00000000e+00\n",
      " 0.00000000e+00 0.00000000e+00 0.00000000e+00 0.00000000e+00\n",
      " 0.00000000e+00 0.00000000e+00 0.00000000e+00 0.00000000e+00\n",
      " 0.00000000e+00 0.00000000e+00 0.00000000e+00 0.00000000e+00\n",
      " 0.00000000e+00 0.00000000e+00 0.00000000e+00 0.00000000e+00\n",
      " 0.00000000e+00 0.00000000e+00 0.00000000e+00 0.00000000e+00\n",
      " 0.00000000e+00 0.00000000e+00 0.00000000e+00 0.00000000e+00\n",
      " 0.00000000e+00 0.00000000e+00 0.00000000e+00 0.00000000e+00\n",
      " 0.00000000e+00 0.00000000e+00]\n",
      "[DEBUG] idx: 16 ori: This PowerBear case is a lifesaver!! cleaned: powerbear case lifesaver\n",
      "[DEBUG] cos_vec: [0.         0.         0.         0.         0.         0.\n",
      " 0.         0.27168782 0.         0.         0.         0.\n",
      " 0.         0.         0.         0.         0.         0.\n",
      " 0.         0.         0.         0.         0.         0.\n",
      " 0.         0.         0.         0.         0.         0.\n",
      " 0.         0.         0.         0.         0.         0.\n",
      " 0.         0.         0.         8.15287003 0.         0.\n",
      " 0.         0.         0.         0.         0.         0.\n",
      " 0.         0.         0.         0.         0.         0.\n",
      " 0.         0.         0.         4.29565526 0.         0.\n",
      " 0.         0.         0.         0.         0.         0.\n",
      " 0.         0.         0.         0.        ]\n",
      "[DEBUG] idx: 8 ori: Now my phone is charged anywhere anytime thanks to powerbear . cleaned: phone charge anytime thank powerbear .\n",
      "[DEBUG] cos_vec: [7.80123660e-01 0.00000000e+00 1.91957002e-04 0.00000000e+00\n",
      " 0.00000000e+00 0.00000000e+00 0.00000000e+00 0.00000000e+00\n",
      " 0.00000000e+00 0.00000000e+00 0.00000000e+00 0.00000000e+00\n",
      " 0.00000000e+00 0.00000000e+00 0.00000000e+00 0.00000000e+00\n",
      " 0.00000000e+00 0.00000000e+00 0.00000000e+00 0.00000000e+00\n",
      " 0.00000000e+00 0.00000000e+00 0.00000000e+00 0.00000000e+00\n",
      " 0.00000000e+00 0.00000000e+00 0.00000000e+00 0.00000000e+00\n",
      " 0.00000000e+00 0.00000000e+00 0.00000000e+00 0.00000000e+00\n",
      " 0.00000000e+00 0.00000000e+00 0.00000000e+00 0.00000000e+00\n",
      " 5.60525561e-02 3.51814104e+00 1.21652729e+00 8.15287003e+00\n",
      " 0.00000000e+00 0.00000000e+00 0.00000000e+00 0.00000000e+00\n",
      " 0.00000000e+00 0.00000000e+00 0.00000000e+00 0.00000000e+00\n",
      " 0.00000000e+00 0.00000000e+00 0.00000000e+00 0.00000000e+00\n",
      " 0.00000000e+00 0.00000000e+00 0.00000000e+00 0.00000000e+00\n",
      " 0.00000000e+00 0.00000000e+00 0.00000000e+00 0.00000000e+00\n",
      " 0.00000000e+00 0.00000000e+00 0.00000000e+00 0.00000000e+00\n",
      " 0.00000000e+00 0.00000000e+00 0.00000000e+00 0.00000000e+00\n",
      " 0.00000000e+00 0.00000000e+00]\n",
      "[INFO] ===========================================================================================================================\n",
      "[INFO] SUMMARIZED: case protects well and the color is awesome nice The color is amazing all of my friends are jealous and ask me where did I get it. This PowerBear case is a lifesaver!! Now my phone is charged anywhere anytime thanks to powerbear .\n",
      "[INFO] ORIGINAL: charges me up all the way. doubles my battery liek promised. case protects well and the color is awesome nice The color is amazing all of my friends are jealous and ask me where did I get it. They are even more jealous when I tell them how much I paid for it! Great case, powers me up and VERY stylish. Matches my 5C PERFECTLY :) much slimmer than I thought and it ads 125% battery. I am charged for the full day with this case. Great quality product , I love this case it is the perfect sidekick to an always dyeing phone . Now my phone is charged anywhere anytime thanks to powerbear . Really like the name of the case as well !! 5 stars deff ! This case helps me run my day smoothly without having to worry about my phone dying. Plus the color is very beautiful. Bought one for me and another for the wife. Acts as phone protector and charging case in one. Hold charge all day so no complaints. This PowerBear case is a lifesaver!! Charges fast, always reliable. I also love the glossy texture of the case. Highly recommend!! This is a very well built and designed case,with a very cool and attractive color. Phone dies too quickly without it\n"
     ]
    }
   ],
   "source": [
    "from nltk.tokenize import sent_tokenize\n",
    "\n",
    "from numpy import dot\n",
    "from numpy.linalg import norm\n",
    "\n",
    "def cos_sim(a, b):\n",
    "  return dot(a, b)/(norm(a)*norm(b))\n",
    "\n",
    "def generate_summary(prod_reviews, index, num_of_docs, word_doc_frequencies, num_of_sentences):\n",
    "    processedSentences = eval(prod_reviews['processedSentences'][index])\n",
    "    reviewSentences = eval(prod_reviews['reviewSentences'][index])\n",
    "\n",
    "    ## generate word frequencies in cleaned\n",
    "    cleaned_reviews = ' '.join(str(x) for x in processedSentences) \n",
    "    word_frequencies = _word_frequency(cleaned_reviews)\n",
    "\n",
    "    ## generate review vector of len of word frequencies\n",
    "    vocab = len(word_frequencies)\n",
    "    log.debug(\"vocab: %i\" % vocab)\n",
    "    review_tf_vec = np.zeros(len(word_frequencies))\n",
    "    for idx, word in enumerate(word_frequencies):\n",
    "        tfidf_value = (1 + np.log(word_frequencies[word])) * np.log(num_of_docs/word_doc_frequencies[word]) \n",
    "        review_tf_vec[idx] = tfidf_value\n",
    "\n",
    "    # print(review_tf_vec)\n",
    "    log.debug(len(review_tf_vec))\n",
    "\n",
    "    ## generate sentences\n",
    "    log.debug(\"num of sentences: %i\" % len(processedSentences))\n",
    "    log.debug(\"sentences: %s\" % processedSentences)\n",
    "\n",
    "    ## generate sentence vectors of len of word frequencies\n",
    "    sent_tf_vecs = []\n",
    "    for sentence in processedSentences:\n",
    "        sent_tf_vec = np.zeros(len(word_frequencies))\n",
    "        sent_word_frequencies = _word_frequency(sentence)\n",
    "        for idx, word in enumerate(sent_word_frequencies):\n",
    "            if word in word_frequencies.keys():\n",
    "                idx = list(word_frequencies.keys()).index(word)\n",
    "                tfidf_value = (1 + np.log(sent_word_frequencies[word])) * np.log(num_of_docs/word_doc_frequencies[word]) \n",
    "                sent_tf_vec[idx] = tfidf_value\n",
    "        sent_tf_vecs.append(sent_tf_vec)\n",
    "\n",
    "    ## compare cossim between review vector and sentence vectors\n",
    "    cosine_similarity = []\n",
    "    for sent_tf_vec in sent_tf_vecs:\n",
    "        cosine_similarity.append(cos_sim(review_tf_vec, sent_tf_vec))\n",
    "\n",
    "    highest_cos_idx = np.argsort(cosine_similarity)[-num_of_sentences:]\n",
    "    log.debug(\"highest_cos_idx: %s\" % str(highest_cos_idx))\n",
    "\n",
    "    ## original sentences\n",
    "    log.debug(\"original_sentences: %s\" % reviewSentences)\n",
    "    log.debug(\"num of ori sentences: %s\" % len(reviewSentences))\n",
    "    summary_sentences = []\n",
    "    for idx in highest_cos_idx:\n",
    "        log.debug(\"idx: %i ori: %s cleaned: %s\" % (idx, reviewSentences[idx], processedSentences[idx]))\n",
    "        # log.debug(\"cos_vec: %s\" % str(sent_tf_vecs[idx]))\n",
    "        summary_sentences.append(reviewSentences[idx])\n",
    "    \n",
    "    return \" \".join(summary_sentences)\n",
    "\n",
    "index=10\n",
    "summary = generate_summary(prod_reviews, index=index, num_of_docs=len(prod_reviews), word_doc_frequencies=word_doc_frequencies, num_of_sentences=3)\n",
    "log.info(\"===========================================================================================================================\")\n",
    "log.info(\"SUMMARIZED: %s\" % summary)\n",
    "log.info(\"ORIGINAL: %s\" % prod_reviews['reviewText'][index])"
   ]
  },
  {
   "cell_type": "code",
   "execution_count": 0,
   "metadata": {
    "colab": {
     "base_uri": "https://localhost:8080/",
     "height": 71
    },
    "colab_type": "code",
    "executionInfo": {
     "elapsed": 1017,
     "status": "ok",
     "timestamp": 1585294428735,
     "user": {
      "displayName": "Mary Jane",
      "photoUrl": "",
      "userId": "04591353844214150432"
     },
     "user_tz": -480
    },
    "id": "dRwUx7qbuFBT",
    "outputId": "6f92948c-b5e0-4361-9cb0-59f9f3a1d76f"
   },
   "outputs": [
    {
     "name": "stdout",
     "output_type": "stream",
     "text": [
      "[INFO] ORIGINAL REVIEW: love case pretty . love way case feel touch rubber . happy idea design sweet idea wear paint case sealant . cool 3d effect cost paint rub . pretty . worried order picture description page change desireable green orange cover . alas come day earlier expect beautiful pink product expect rubberized cover feel little greasy like armor all'd design gorgeous little 3d look pretty phone case love . love change .thanks case white silver . pretty case- fit phone perfectly . long arrive . defintiely worth price ... order . case 15 especially cell phone store . believe mark thing great case ... fit phone perfectly use time time . recommend received item quickly . design vivid expect . cover soft rubberize durable . receive compliment . excellent buy recommend want good look phone . cover old phone look feel new . like order cover little money snazzy phone .\n",
      "[INFO] SUMMARIZED REVIEW: look pretty phone case love love case pretty pretty case fit phone perfectly cover old phone look feel new like order cover little money snazzy phone love way case feel touch rubber case 15 especially cell phone store \n"
     ]
    }
   ],
   "source": [
    "# def generate_summary(review, num_of_sentences):\n",
    "#     word_frequencies = _word_frequency(review)\n",
    "\n",
    "#     sentences = _tokenize_sentences(review)\n",
    "\n",
    "#     sentence_scores = _score_sentences(sentences, word_frequencies)\n",
    "    \n",
    "#     summary_sentences = heapq.nlargest(num_of_sentences, sentence_scores, key=sentence_scores.get)\n",
    "    \n",
    "#     return ''.join(summary_sentences)\n",
    "\n",
    "# idx = 3\n",
    "# num_of_sentences = 7\n",
    "# if parameters['clean_reviews']:\n",
    "#     review = prod_reviews['processedText'][idx]\n",
    "    \n",
    "# else:\n",
    "#     review = prod_reviews['reviewText'][idx]\n",
    "\n",
    "# summary = generate_summary(review, num_of_sentences)\n",
    "# log.info(\"ORIGINAL REVIEW: %s\", review)\n",
    "# log.info(\"SUMMARIZED REVIEW: %s\", summary)"
   ]
  },
  {
   "cell_type": "code",
   "execution_count": 0,
   "metadata": {
    "colab": {},
    "colab_type": "code",
    "id": "qqOfmAER44pt"
   },
   "outputs": [],
   "source": []
  }
 ],
 "metadata": {
  "accelerator": "GPU",
  "colab": {
   "collapsed_sections": [],
   "name": "Text Mgmt Project Review Summarizer_v2.ipynb",
   "provenance": []
  },
  "kernelspec": {
   "display_name": "Python 3",
   "language": "python",
   "name": "python3"
  },
  "language_info": {
   "codemirror_mode": {
    "name": "ipython",
    "version": 3
   },
   "file_extension": ".py",
   "mimetype": "text/x-python",
   "name": "python",
   "nbconvert_exporter": "python",
   "pygments_lexer": "ipython3",
   "version": "3.6.6"
  }
 },
 "nbformat": 4,
 "nbformat_minor": 1
}
